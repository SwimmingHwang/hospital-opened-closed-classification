{
 "cells": [
  {
   "cell_type": "markdown",
   "metadata": {},
   "source": [
    "# Ensemble boosting Algorithm"
   ]
  },
  {
   "cell_type": "markdown",
   "metadata": {},
   "source": [
    "**머신러닝 앙상블**에서는 대표적으로 **배깅(bagging)**과 **부스팅(boosting)** 그리고 **보팅(voting)**이 있다.   \n",
    "1. 배깅\n",
    "2. **부스팅**\n",
    "3. 보팅   \n",
    "\n",
    "머신러닝 부스팅 알고리즘은 틀린 부분에 가중치를 더하면서 진행하는 알고리즘이다.   \n",
    "Gradient Boosting Machine(GBM)은 그 가중치를 경사하강법(gradient boosting)으로 진행한다. "
   ]
  },
  {
   "cell_type": "markdown",
   "metadata": {},
   "source": [
    "## xgboost의 특징\n",
    "- gbm보다는 빠르다\n",
    "- overfitting 방지가 가능한 규제(regularization)가 포함되어 있다.\n",
    "- CART(Clssification And Regression Tree)를 기반으로 한다.\n",
    "    - 즉, 분루와 회귀 둘 다 가능하다\n",
    "- 조기 종료(early stopping)을 제공한다.\n",
    "- 결국 Gradient Boost를 기반으로 한다."
   ]
  },
  {
   "cell_type": "markdown",
   "metadata": {},
   "source": [
    "> 출처   \n",
    "https://lsjsj92.tistory.com/547   \n",
    "https://lsjsj92.tistory.com/548   \n"
   ]
  },
  {
   "cell_type": "markdown",
   "metadata": {},
   "source": [
    "1. 주제 선정 이유 \n",
    "1. 왜 xgboost로 했는지 \n",
    "1. 왜 lightgbm으로 했는지\n",
    "1. 왜 randomforest로 했는지\n",
    "1. 왜 세개 합해서 앙상블했는지 \n",
    "1. 결과 분석\n",
    "1. 겪었던 문제 \n",
    "    - GradientBoostingClassifier(max_depth=5, max_features='auto',\n",
    "                           min_samples_leaf=50, n_estimators=31,\n",
    "                           random_state=10, subsample=0.8) \n",
    "   - GBM search시 과적합됨\n",
    "   - subsample parameter 없애니까 잘 됨 0.8 -> 1.0(default)로 변경( 전체의 80프로만 학습데이터로 사용함. 1로하면 다 )\n",
    "   "
   ]
  },
  {
   "cell_type": "markdown",
   "metadata": {},
   "source": [
    "- [ ] 변수 중요도 다 나오게 하기\n",
    "- [ ] 0.7 같은 임계값 설정\n",
    "- [ ] randomforest gridsearch 에서 random seed를 설정했지만 매번 hyperparameter가 다른 문제 발생"
   ]
  },
  {
   "cell_type": "markdown",
   "metadata": {},
   "source": [
    "- gridSearch vs randomizedSerch \n",
    "데이터 수가 많지않기때문에 랜덤서치 대신 그리드 서치를 진행하였다."
   ]
  },
  {
   "cell_type": "markdown",
   "metadata": {},
   "source": [
    "- xgboost 에서 train과 fit  https://www.kaggle.com/questions-and-answers/65417 "
   ]
  },
  {
   "cell_type": "markdown",
   "metadata": {},
   "source": [
    "## 2020.08.25 Todo\n",
    "- validation set 추가\n",
    "- 세 개 모델 중 최적의 모델 선택 "
   ]
  },
  {
   "cell_type": "code",
   "execution_count": null,
   "metadata": {},
   "outputs": [],
   "source": []
  }
 ],
 "metadata": {
  "kernelspec": {
   "display_name": "Python 3",
   "language": "python",
   "name": "python3"
  },
  "language_info": {
   "codemirror_mode": {
    "name": "ipython",
    "version": 3
   },
   "file_extension": ".py",
   "mimetype": "text/x-python",
   "name": "python",
   "nbconvert_exporter": "python",
   "pygments_lexer": "ipython3",
   "version": "3.8.3"
  }
 },
 "nbformat": 4,
 "nbformat_minor": 4
}

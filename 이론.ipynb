{
 "cells": [
  {
   "cell_type": "markdown",
   "metadata": {},
   "source": [
    "# Ensemble boosting Algorithm"
   ]
  },
  {
   "cell_type": "markdown",
   "metadata": {},
   "source": [
    "**머신러닝 앙상블**에서는 대표적으로 **배깅(bagging)**과 **부스팅(boosting)** 그리고 **보팅(voting)**이 있다.   \n",
    "1. 배깅\n",
    "2. **부스팅**\n",
    "3. 보팅   \n",
    "\n",
    "머신러닝 부스팅 알고리즘은 틀린 부분에 가중치를 더하면서 진행하는 알고리즘이다.   \n",
    "Gradient Boosting Machine(GBM)은 그 가중치를 경사하강법(gradient boosting)으로 진행한다. "
   ]
  },
  {
   "cell_type": "markdown",
   "metadata": {},
   "source": [
    "## xgboost의 특징\n",
    "- gbm보다는 빠르다\n",
    "- overfitting 방지가 가능한 규제(regularization)가 포함되어 있다.\n",
    "- CART(Clssification And Regression Tree)를 기반으로 한다.\n",
    "    - 즉, 분루와 회귀 둘 다 가능하다\n",
    "- 조기 종료(early stopping)을 제공한다.\n",
    "- 결국 Gradient Boost를 기반으로 한다."
   ]
  },
  {
   "cell_type": "markdown",
   "metadata": {},
   "source": [
    "> 출처   \n",
    "https://lsjsj92.tistory.com/547   \n",
    "https://lsjsj92.tistory.com/548   \n"
   ]
  },
  {
   "cell_type": "code",
   "execution_count": null,
   "metadata": {},
   "outputs": [],
   "source": []
  }
 ],
 "metadata": {
  "kernelspec": {
   "display_name": "Python 3",
   "language": "python",
   "name": "python3"
  },
  "language_info": {
   "codemirror_mode": {
    "name": "ipython",
    "version": 3
   },
   "file_extension": ".py",
   "mimetype": "text/x-python",
   "name": "python",
   "nbconvert_exporter": "python",
   "pygments_lexer": "ipython3",
   "version": "3.8.3"
  }
 },
 "nbformat": 4,
 "nbformat_minor": 4
}
